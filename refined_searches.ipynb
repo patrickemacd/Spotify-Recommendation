{
 "cells": [
  {
   "cell_type": "code",
   "execution_count": null,
   "metadata": {},
   "outputs": [],
   "source": [
    "from spotify_object import SpotifyAPI\n",
    "from spotify_object import spotify\n",
    "import base64\n",
    "import requests\n",
    "import datetime\n",
    "import json\n",
    "from time import sleep\n",
    "from urllib.parse import urlencode"
   ]
  },
  {
   "cell_type": "code",
   "execution_count": null,
   "metadata": {},
   "outputs": [],
   "source": [
    "#getting track features\n",
    "track = input(\"What track do you want to get features for?: \")\n",
    "\n",
    "def all_features(x):\n",
    "        t = spotify.search(query = f\"{x}\",search_type = \"track\", limit = \"1\")\n",
    "        return spotify.get_features(t['tracks']['items'][0]['id'])\n",
    "\n",
    "f_json = all_features(track)\n",
    "\n",
    "print(json.dumps(f_json, sort_keys = True, indent = 2))"
   ]
  },
  {
   "cell_type": "code",
   "execution_count": null,
   "metadata": {},
   "outputs": [],
   "source": [
    "#this is retrieving \n",
    "album = input(\"What album do you want to see?: \")\n",
    "artist = input(\"What is the album by?:\" )\n",
    "query = {\"Album\": f\"{album}\", \"Artist\": f\"{artist}\"}\n",
    "print(query)\n",
    "search = spotify.search(query = f\"{query}\", search_type = \"artist\", limit = \"1\")\n",
    "print(json.dumps(search, sort_keys = True, indent = 2))\n"
   ]
  },
  {
   "cell_type": "code",
   "execution_count": null,
   "metadata": {
    "scrolled": true
   },
   "outputs": [],
   "source": [
    "# work on getting album features for comparison\n",
    "spotify.search(query = \"Drake\", genre = \"Hip Hop\", search_type = \"artist\", limit = \"1\")\n"
   ]
  },
  {
   "cell_type": "code",
   "execution_count": null,
   "metadata": {
    "scrolled": false
   },
   "outputs": [],
   "source": [
    "# so lets start with the query of what you like \n",
    "\n",
    "#what word would you want a playlist built on \n",
    "word = input(\"What word would you want your playlist built on?: \")\n",
    "\n",
    "genre = input(\"Do you want a particular genre? y/n\").lower().strip()\n",
    "\n",
    "if genre == \"y\":\n",
    "    genre = input(\"What genre are you looking for?: \")\n",
    "    search = spotify.search(query = f\"{word}\", genre = f\"{genre}\", search_type = \"track\", limit = \"10\")\n",
    "    print(json.dumps(search, sort_keys = True, indent = 2))"
   ]
  },
  {
   "cell_type": "code",
   "execution_count": null,
   "metadata": {
    "scrolled": false
   },
   "outputs": [],
   "source": []
  },
  {
   "cell_type": "code",
   "execution_count": null,
   "metadata": {},
   "outputs": [],
   "source": []
  }
 ],
 "metadata": {
  "kernelspec": {
   "display_name": "Python 3",
   "language": "python",
   "name": "python3"
  },
  "language_info": {
   "codemirror_mode": {
    "name": "ipython",
    "version": 3
   },
   "file_extension": ".py",
   "mimetype": "text/x-python",
   "name": "python",
   "nbconvert_exporter": "python",
   "pygments_lexer": "ipython3",
   "version": "3.8.3"
  }
 },
 "nbformat": 4,
 "nbformat_minor": 4
}
