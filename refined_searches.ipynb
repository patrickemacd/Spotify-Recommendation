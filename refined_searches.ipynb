{
 "cells": [
  {
   "cell_type": "code",
   "execution_count": null,
   "metadata": {},
   "outputs": [],
   "source": [
    "from spotify_object import spotify\n",
    "import base64\n",
    "import requests\n",
    "import datetime\n",
    "import json\n",
    "from time import sleep\n",
    "from urllib.parse import urlencode\n",
    "import pandas as pd\n",
    "import numpy as np"
   ]
  },
  {
   "cell_type": "code",
   "execution_count": null,
   "metadata": {},
   "outputs": [],
   "source": [
    "#getting track features\n",
    "# track = input(\"What track do you want to get features for?: \")\n",
    "\n",
    "# def all_features(x):\n",
    "#         t = spotify.search(query = f\"{x}\",search_type = \"track\", limit = \"1\")\n",
    "#         return spotify.get_features(t['tracks']['items'][0]['id'])\n",
    "\n",
    "# f_json = all_features(track)\n",
    "\n",
    "# print(json.dumps(f_json, sort_keys = True, indent = 2))"
   ]
  },
  {
   "cell_type": "code",
   "execution_count": null,
   "metadata": {},
   "outputs": [],
   "source": [
    "# #this is retrieving \n",
    "# album = input(\"What album do you want to see?: \")\n",
    "# artist = input(\"Who is the album by?:\" )\n",
    "# query = {\"Album\": f\"{album}\", \"Artist\": f\"{artist}\"}\n",
    "# print(query)\n",
    "# search = spotify.search(query = f\"{query}\", search_type = \"artist\", limit = \"1\")\n",
    "# print(json.dumps(search, sort_keys = True, indent = 2))\n"
   ]
  },
  {
   "cell_type": "code",
   "execution_count": null,
   "metadata": {
    "scrolled": false
   },
   "outputs": [],
   "source": [
    "# # getting related artists\n",
    "\n",
    "# #need to query for artist\n",
    "# artist = input(\"What artist would you want to look for?: \")\n",
    "# search = spotify.search(query = f\"{artist}\", search_type = \"artist\", limit = \"1\")\n",
    "# #go through json and get id\n",
    "\n",
    "# id = search['artists']['items'][0]['id']\n",
    "\n",
    "# #search with the id for related artists\n",
    "# related = spotify.get_related_artists(f\"{id}\")\n",
    "                     \n",
    "# #list related artists\n",
    "# #related search is limited to 20 related artists\n",
    "# for i in range(20):\n",
    "#     more = related['artists'][i]['name']\n",
    "#     print(more)\n",
    "# #repeat the process?\n",
    "\n",
    "\n",
    "# '''LETS GET BACK TO THIS ONE'''\n"
   ]
  },
  {
   "cell_type": "code",
   "execution_count": null,
   "metadata": {
    "scrolled": false
   },
   "outputs": [],
   "source": [
    "\"\"\"CREATING PLAYLISTS BUILT ON WORDS WITH CHOICE FOR PARTICULAR GENRE\"\"\"\n",
    "\n",
    "\n",
    "#find the word they want\n",
    "word = input(\"What word for today?:  \")\n",
    "#how big of a playlist\n",
    "limit = input(\"How long should this playlist be?:  \")\n",
    "limit = int(limit)\n",
    "#ask if they want a ny genres \n",
    "y_n = input(\"Do you want a particular genre? y/n  \").lower().strip()\n",
    "\n",
    "\"\"\"WITH GENRE SELECTION\"\"\"\n",
    "if y_n == \"y\":\n",
    "    gen = input(\"What genre are you looking for?:  \")\n",
    "    print(\"\")\n",
    "    print(f\"Searching for songs with the word: '{word}' and genre: '{gen}'\")\n",
    "    sleep(.5)\n",
    "    search = spotify.search(query = {\"track\":f\"{word}\"}, genre_type = f\"{gen}\", search_type = \"track\", limit = f\"{limit}\")  \n",
    "    print(\" \")\n",
    "\n",
    "\n",
    "        \n",
    "\"\"\"WITHOUT GENRE SELECTION\"\"\"\n",
    "if y_n == \"n\":\n",
    "    print(\"\")\n",
    "    print(f\"Searching for songs with '{word}' in the title\")\n",
    "    sleep(.5)\n",
    "    \n",
    "    search = spotify.search(query = {\"track\":f\"{word}\"}, search_type = \"track\", limit = f\"{limit}\")\n",
    "    print(\"\")\n",
    "    \n",
    "\n",
    "print(\"WE GOT ZE GOODS!\")\n",
    "\n",
    "#creating\n",
    "track_list = []\n",
    "track_ids = []\n",
    "artist_list = []\n",
    "artist_ids = []\n",
    "\n",
    "#gathering all of the information from the API to later assign into a playlist dictionary\n",
    "for i in range(limit):\n",
    "    track_name = search['tracks']['items'][i]['name']\n",
    "    track_id = search['tracks']['items'][i]['id']\n",
    "    artist = search['tracks']['items'][i]['artists'][0]['name']\n",
    "    artist_id = search['tracks']['items'][i]['artists'][0]['id']\n",
    "    track_list.append(track_name)\n",
    "    track_ids.append(track_id)\n",
    "    artist_list.append(artist)\n",
    "    artist_ids.append(artist_id)\n",
    "#this is the playlist dictionary that we will later create a dataframe from\n",
    "playlist = {}\n",
    "playlist = dict(track = track_list,\n",
    "               id = track_ids,\n",
    "               artist = artist_list,\n",
    "               artist_id = artist_ids)"
   ]
  },
  {
   "cell_type": "code",
   "execution_count": null,
   "metadata": {
    "scrolled": false
   },
   "outputs": [],
   "source": [
    "#easy peasy lemon squeezy, dataframe, time to get a lot more data :) \n",
    "df = pd.DataFrame.from_dict(playlist)\n"
   ]
  },
  {
   "cell_type": "code",
   "execution_count": null,
   "metadata": {},
   "outputs": [],
   "source": [
    "#gathering audio features stuff and audio analysis\n",
    "\n",
    "#creating lists before looping\n",
    "features_list = []\n",
    "#audio analysis will be implemented later\n",
    "#analysis_list = []\n",
    "for i in range(len(df)):\n",
    "    id = df['id'][i]\n",
    "    #both of them take in the same input, the id of the track\n",
    "    features_list.append(spotify.get_features(id))\n",
    "    #audioanalysis is too much information for now, but we can use it later\n",
    "    #analysis_list.append(spotify.get_analysis(id))\n"
   ]
  },
  {
   "cell_type": "code",
   "execution_count": null,
   "metadata": {},
   "outputs": [],
   "source": [
    "#successfully merges the audio features with the og df\n",
    "features = pd.DataFrame(features_list)\n",
    "merged = pd.merge(df,features, on = 'id')"
   ]
  },
  {
   "cell_type": "code",
   "execution_count": null,
   "metadata": {},
   "outputs": [],
   "source": [
    "#looking at all of the features to implement in a seed browse l8tr\n",
    "merged.head()"
   ]
  },
  {
   "cell_type": "code",
   "execution_count": null,
   "metadata": {
    "scrolled": true
   },
   "outputs": [],
   "source": [
    "#working with args and kwargs\n",
    "# def recommendations(*args,**kwargs):\n",
    "#     result = \"\"\n",
    "#     for i in kwargs.values():\n",
    "#         result += i\n",
    "#     return result\n",
    "\n",
    "\n",
    "#create lists to pull from\n",
    "maximum = {}\n",
    "minimum = {}\n",
    "target = {}\n",
    "mm_features = list(merged.columns[4:])\n",
    "for i in mm_features:\n",
    "    maximum.update({f\"max_{i}\" : None})\n",
    "    minimum.update({f\"min_{i}\": None})\n",
    "    target.update({f\"target_{i}\", None})\n",
    "    \n",
    "#create a contingency of what to look for\n",
    "#maybe pull from current playlists and see what could be developed \n",
    "#train the model from here\n",
    "\n",
    "\n",
    "\n",
    "#take the kwargs that we're pulling from\n",
    "\n",
    "#what feature are we looking at?\n",
    "# def choice(**kwargs):\n",
    "#         result = \"\"\n",
    "#     for i in kwargs.values():\n",
    "#         print(i)\n"
   ]
  },
  {
   "cell_type": "code",
   "execution_count": null,
   "metadata": {},
   "outputs": [],
   "source": [
    "merged.head()"
   ]
  },
  {
   "cell_type": "code",
   "execution_count": null,
   "metadata": {},
   "outputs": [],
   "source": []
  },
  {
   "cell_type": "code",
   "execution_count": null,
   "metadata": {},
   "outputs": [],
   "source": []
  }
 ],
 "metadata": {
  "kernelspec": {
   "display_name": "Python 3",
   "language": "python",
   "name": "python3"
  },
  "language_info": {
   "codemirror_mode": {
    "name": "ipython",
    "version": 3
   },
   "file_extension": ".py",
   "mimetype": "text/x-python",
   "name": "python",
   "nbconvert_exporter": "python",
   "pygments_lexer": "ipython3",
   "version": "3.8.3"
  }
 },
 "nbformat": 4,
 "nbformat_minor": 4
}
