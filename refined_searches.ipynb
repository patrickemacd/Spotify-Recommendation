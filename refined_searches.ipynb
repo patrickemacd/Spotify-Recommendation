{
 "cells": [
  {
   "cell_type": "code",
   "execution_count": null,
   "metadata": {},
   "outputs": [],
   "source": [
    "from spotify_object import spotify\n",
    "import base64\n",
    "import requests\n",
    "import datetime\n",
    "import json\n",
    "from time import sleep\n",
    "from urllib.parse import urlencode\n",
    "import pandas as pd\n",
    "import numpy as np"
   ]
  },
  {
   "cell_type": "code",
   "execution_count": null,
   "metadata": {},
   "outputs": [],
   "source": [
    "#getting track features\n",
    "# track = input(\"What track do you want to get features for?: \")\n",
    "\n",
    "# def all_features(x):\n",
    "#         t = spotify.search(query = f\"{x}\",search_type = \"track\", limit = \"1\")\n",
    "#         return spotify.get_features(t['tracks']['items'][0]['id'])\n",
    "\n",
    "# f_json = all_features(track)\n",
    "\n",
    "# print(json.dumps(f_json, sort_keys = True, indent = 2))"
   ]
  },
  {
   "cell_type": "code",
   "execution_count": null,
   "metadata": {},
   "outputs": [],
   "source": [
    "# #this is retrieving \n",
    "# album = input(\"What album do you want to see?: \")\n",
    "# artist = input(\"Who is the album by?:\" )\n",
    "# query = {\"Album\": f\"{album}\", \"Artist\": f\"{artist}\"}\n",
    "# print(query)\n",
    "# search = spotify.search(query = f\"{query}\", search_type = \"artist\", limit = \"1\")\n",
    "# print(json.dumps(search, sort_keys = True, indent = 2))\n"
   ]
  },
  {
   "cell_type": "code",
   "execution_count": null,
   "metadata": {
    "scrolled": false
   },
   "outputs": [],
   "source": [
    "# # getting related artists\n",
    "\n",
    "# #need to query for artist\n",
    "# artist = input(\"What artist would you want to look for?: \")\n",
    "# search = spotify.search(query = f\"{artist}\", search_type = \"artist\", limit = \"1\")\n",
    "# #go through json and get id\n",
    "\n",
    "# id = search['artists']['items'][0]['id']\n",
    "\n",
    "# #search with the id for related artists\n",
    "# related = spotify.get_related_artists(f\"{id}\")\n",
    "                     \n",
    "# #list related artists\n",
    "# #related search is limited to 20 related artists\n",
    "# for i in range(20):\n",
    "#     more = related['artists'][i]['name']\n",
    "#     print(more)\n",
    "# #repeat the process?\n",
    "\n",
    "\n",
    "# '''LETS GET BACK TO THIS ONE'''\n"
   ]
  },
  {
   "cell_type": "code",
   "execution_count": null,
   "metadata": {
    "scrolled": true
   },
   "outputs": [],
   "source": [
    "\"\"\"CREATING PLAYLISTS BUILT ON WORDS WITH CHOICE FOR PARTICULAR GENRE\"\"\"\n",
    "\n",
    "\n",
    "#find the word they want\n",
    "word = input(\"What word for today?:  \")\n",
    "#how big of a playlist\n",
    "limit = input(\"How long should this playlist be?:  \")\n",
    "limit = int(limit)\n",
    "#ask if they want a ny genres \n",
    "y_n = input(\"Do you want a particular genre? y/n  \").lower().strip()\n",
    "\n",
    "\"\"\"WITH GENRE SELECTION\"\"\"\n",
    "if y_n == \"y\":\n",
    "    gen = input(\"What genre are you looking for?:  \")\n",
    "    print(\"\")\n",
    "    print(f\"Searching for songs with the word: '{word}' and genre: '{gen}'\")\n",
    "    sleep(.5)\n",
    "    search = spotify.search(query = {\"track\":f\"{word}\"}, genre_type = f\"{gen}\", search_type = \"track\", limit = f\"{limit}\")  \n",
    "    print(\" \")\n",
    "\n",
    "\n",
    "        \n",
    "\"\"\"WITHOUT GENRE SELECTION\"\"\"\n",
    "if y_n == \"n\":\n",
    "    print(\"\")\n",
    "    print(f\"Searching for songs with '{word}' in the title\")\n",
    "    sleep(.5)\n",
    "    \n",
    "    search = spotify.search(query = {\"track\":f\"{word}\"}, search_type = \"track\", limit = f\"{limit}\")\n",
    "    print(\"\")\n",
    "    \n",
    "\n",
    "print(\"WE GOT ZE GOODS!\")\n",
    "\n",
    "#creating\n",
    "\n",
    "track_list = []\n",
    "track_ids = []\n",
    "artist_list = []\n",
    "artist_ids = []\n",
    "\n",
    "#gathering all of the information from the API to later assign into a playlist dictionary\n",
    "for i in range(limit):\n",
    "    track_name = search['tracks']['items'][i]['name']\n",
    "    track_id = search['tracks']['items'][i]['id']\n",
    "    artist = search['tracks']['items'][i]['artists'][0]['name']\n",
    "    artist_id = search['tracks']['items'][i]['artists'][0]['id']\n",
    "    track_list.append(track_name)\n",
    "    track_ids.append(track_id)\n",
    "    artist_list.append(artist)\n",
    "    artist_ids.append(artist_id)\n",
    "#this is the playlist dictionary that we will later create a dataframe from\n",
    "playlist = {}\n",
    "playlist = dict(track = track_list,\n",
    "               track_id = track_ids,\n",
    "               artist = artist_list,\n",
    "               artist_id = artist_ids)"
   ]
  },
  {
   "cell_type": "code",
   "execution_count": null,
   "metadata": {
    "scrolled": false
   },
   "outputs": [],
   "source": [
    "#easy peasy lemon squeezy, dataframe, time to get a lot more data :) \n",
    "df = pd.DataFrame.from_dict(playlist)"
   ]
  },
  {
   "cell_type": "code",
   "execution_count": null,
   "metadata": {},
   "outputs": [],
   "source": []
  },
  {
   "cell_type": "code",
   "execution_count": null,
   "metadata": {
    "scrolled": false
   },
   "outputs": [],
   "source": [
    "#looking for duplicate files\n",
    "\n",
    "#to work on later \n",
    "# duplicate = {} \n",
    "# for k, v in playlist.items(): \n",
    "#     if v not in duplicate: \n",
    "#         duplicate[v] = [k] \n",
    "#     else: \n",
    "#         duplicate[v].append(k) \n",
    "# result = list(filter(lambda x: len(x) > 1, duplicate.values()))\n",
    "# result = list(*result)\n",
    "# print(len(result))\n",
    "\n"
   ]
  },
  {
   "cell_type": "code",
   "execution_count": null,
   "metadata": {},
   "outputs": [],
   "source": []
  }
 ],
 "metadata": {
  "kernelspec": {
   "display_name": "Python 3",
   "language": "python",
   "name": "python3"
  },
  "language_info": {
   "codemirror_mode": {
    "name": "ipython",
    "version": 3
   },
   "file_extension": ".py",
   "mimetype": "text/x-python",
   "name": "python",
   "nbconvert_exporter": "python",
   "pygments_lexer": "ipython3",
   "version": "3.8.3"
  }
 },
 "nbformat": 4,
 "nbformat_minor": 4
}
