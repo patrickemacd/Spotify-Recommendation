{
 "cells": [
  {
   "cell_type": "code",
   "execution_count": null,
   "metadata": {},
   "outputs": [],
   "source": [
    "from spotify_object import spotify\n",
    "import base64\n",
    "import requests\n",
    "import datetime\n",
    "import json\n",
    "import random\n",
    "from time import sleep\n",
    "from urllib.parse import urlencode\n",
    "import pandas as pd\n",
    "import numpy as np"
   ]
  },
  {
   "cell_type": "code",
   "execution_count": null,
   "metadata": {},
   "outputs": [],
   "source": [
    "\"\"\"I CULTIVATED A PLAYLIST WITH 100 OF MY FAV SONGS TO TRAIN OFF OF, this is just a foundation\"\"\"\n",
    "\n",
    "#Let's see if this works\n",
    "#Need to log into account and get playlist account\n",
    "#CODE IS USER ID\n",
    "playlists = spotify.get_user_playlists('20y4cuyjnc87e3vxc2qqzl69q')\n",
    "\n",
    "# playlist_name = input(\"What playlist would you like to model off of?: \")"
   ]
  },
  {
   "cell_type": "code",
   "execution_count": null,
   "metadata": {},
   "outputs": [],
   "source": [
    "#scrub through the playlists that match the input of their favorite songs\n",
    "#lets create a list to then pick which playlist you want \n",
    "\n",
    "playlist_list = []\n",
    "for i in range(100):\n",
    "    try:\n",
    "        item = playlists['items'][i]['name']\n",
    "        playlist_list.append(f\"{i+1}. {item}\")\n",
    "    except IndexError:\n",
    "        continue  "
   ]
  },
  {
   "cell_type": "code",
   "execution_count": null,
   "metadata": {},
   "outputs": [],
   "source": [
    "#print out the list of playlists to choose from \n",
    "print(\"Please Select a playlist to model off of!!\")\n",
    "print(\"Try to Select one with more than 50 songs for best results!!\")\n",
    "print(\"\")\n",
    "print(\"PLAYLISTS:\")\n",
    "for i in playlist_list:\n",
    "    print(i)\n",
    "    \n",
    "#make an input for the list\n",
    "selection = int(input(\"What number playlist do you want?:  \")) - 1"
   ]
  },
  {
   "cell_type": "code",
   "execution_count": null,
   "metadata": {},
   "outputs": [],
   "source": [
    "#now to gather the results from that playlist\n",
    "_id = playlists['items'][selection]['id']\n",
    "playlist_items = spotify.get_playlist_items(_id)\n",
    "#this is for looping purposes later down the line \n",
    "total_tracks = playlists['items'][selection]['tracks']['total']"
   ]
  },
  {
   "cell_type": "code",
   "execution_count": null,
   "metadata": {},
   "outputs": [],
   "source": [
    "#creating a dataframe from the songs in the playlist\n",
    "d = []\n",
    "for i in range(total_tracks):\n",
    "    try:\n",
    "        d.append(\n",
    "            {\n",
    "                'track': playlist_items['items'][i]['track']['name'],\n",
    "                'artist': playlist_items['items'][i]['track']['artists'][0]['name'],\n",
    "                'id': playlist_items['items'][i]['track']['id'],\n",
    "                'preview': playlist_items['items'][i]['track']['preview_url'],\n",
    "                'popularity': playlist_items['items'][i]['track']['popularity']\n",
    "\n",
    "            }\n",
    "    )\n",
    "    except KeyError:\n",
    "        continue\n",
    "df = pd.DataFrame(d)"
   ]
  },
  {
   "cell_type": "code",
   "execution_count": null,
   "metadata": {},
   "outputs": [],
   "source": [
    "#assigning the song ids for features \n",
    "song_ids = list(df['id'])\n",
    "#iterating for the features \n",
    "f = []\n",
    "for track in song_ids:\n",
    "    features = spotify.get_features(track)\n",
    "    f.append(features)\n",
    "df2 = pd.DataFrame(f)"
   ]
  },
  {
   "cell_type": "code",
   "execution_count": null,
   "metadata": {},
   "outputs": [],
   "source": [
    "#merging the dataframes together\n",
    "to_model = pd.merge(df,df2, on='id')"
   ]
  },
  {
   "cell_type": "code",
   "execution_count": null,
   "metadata": {},
   "outputs": [],
   "source": [
    "\"\"\"GATHERING MORE SONGS!!!\"\"\""
   ]
  },
  {
   "cell_type": "code",
   "execution_count": null,
   "metadata": {
    "scrolled": true
   },
   "outputs": [],
   "source": [
    "# ok its time to get more data so we can tell the computer what not to look for \n",
    "\"\"\"found this playlist on the web with over 2000 songs\"\"\"\n",
    "big_playlist = spotify.get_playlist_items('5fMCrRnSy4TauAmM36zrIP')\n",
    "#this will only get me the first 100 songs, so I must use the next link\n",
    "\n",
    "#just creating the total_tracks variable for looping\n",
    "total_tracks = big_playlist['total']"
   ]
  },
  {
   "cell_type": "code",
   "execution_count": null,
   "metadata": {},
   "outputs": [],
   "source": [
    "#need to take next from each playlist then collect of the items from there\n",
    "#Spotify has max limit of 100 results, so need to go through offset in order to use it\n",
    "def get_playlist_tracks(playlist_id):\n",
    "    results = spotify.get_playlist_items(playlist_id)\n",
    "    tracks = results['items']\n",
    "    while results['next']:\n",
    "        results = spotify.url_search(results['next'])\n",
    "        tracks.extend(results['items'])\n",
    "    return tracks"
   ]
  },
  {
   "cell_type": "code",
   "execution_count": null,
   "metadata": {},
   "outputs": [],
   "source": [
    "#using the function defined above\n",
    "big_playlist = get_playlist_tracks('5fMCrRnSy4TauAmM36zrIP')"
   ]
  },
  {
   "cell_type": "code",
   "execution_count": null,
   "metadata": {},
   "outputs": [],
   "source": [
    "#repeating the process from above in mapping a dictionary, but this time with the big ol' playlist \n",
    "b = []\n",
    "for i in range(total_tracks):\n",
    "    try:\n",
    "        b.append(\n",
    "            {\n",
    "                'track': big_playlist[i]['track']['name'],\n",
    "                'artist': big_playlist[i]['track']['artists'][0]['name'],\n",
    "                'id': big_playlist[i]['track']['id'],\n",
    "                'preview': big_playlist[i]['track']['preview_url'],\n",
    "                'popularity': big_playlist[i]['track']['popularity']\n",
    "\n",
    "            }\n",
    "    )\n",
    "    except KeyError:\n",
    "        continue\n",
    "df = pd.DataFrame(b)"
   ]
  },
  {
   "cell_type": "code",
   "execution_count": null,
   "metadata": {},
   "outputs": [],
   "source": [
    "song_ids = list(df['id'])\n",
    "#iterating for the features \n",
    "f = []\n",
    "for track in song_ids:\n",
    "    features = spotify.get_features(track)\n",
    "    f.append(features)\n",
    "df2 = pd.DataFrame(f)\n",
    "#merging the dfs together\n",
    "curated = pd.merge(df,df2, on = 'id')"
   ]
  },
  {
   "cell_type": "code",
   "execution_count": null,
   "metadata": {},
   "outputs": [],
   "source": [
    "#lets read out the curated playlists for further analysis\n",
    "curated.to_csv('curated.csv')"
   ]
  },
  {
   "cell_type": "code",
   "execution_count": null,
   "metadata": {},
   "outputs": [],
   "source": [
    "#creating a target variable\n",
    "to_model['like'] = 1\n",
    "curated['like'] = None"
   ]
  },
  {
   "cell_type": "code",
   "execution_count": null,
   "metadata": {},
   "outputs": [],
   "source": [
    "#sampling out the dataframe for input\n",
    "new = curated.sample(n=500,random_state=123)\n"
   ]
  },
  {
   "cell_type": "code",
   "execution_count": null,
   "metadata": {},
   "outputs": [],
   "source": [
    "#reseting the index\n",
    "new.reset_index(drop = True, inplace = True)"
   ]
  },
  {
   "cell_type": "code",
   "execution_count": null,
   "metadata": {},
   "outputs": [],
   "source": [
    "#do user input\n",
    "like = []\n",
    "for i in range(len(new)):\n",
    "    answer = input(f\"{new['track'][i]} by {new['artist'][i]}: \")\n",
    "    like.append(answer)\n",
    "    \n",
    "    \n",
    "    "
   ]
  },
  {
   "cell_type": "code",
   "execution_count": null,
   "metadata": {},
   "outputs": [],
   "source": [
    "\"\"\"THIS SECTION IS ACTIVLEY GOING OUT AND GATHERING PLAYLISTS FROM SPOTIFY/WE ARE NOT THERE YET!\"\"\""
   ]
  },
  {
   "cell_type": "code",
   "execution_count": null,
   "metadata": {},
   "outputs": [],
   "source": [
    "#search for specific genre with name in playlist\n",
    "\n",
    "\"\"\"This only looks for playlists with the genre in the title for instance, there will be more spotify curated playlists\"\"\"\n",
    "genre = input(\"What Genre would you be looking for today my liege?: \")\n",
    "search = spotify.search(query = f\"{genre}\", search_type = \"playlist\", limit = 10)  \n"
   ]
  },
  {
   "cell_type": "code",
   "execution_count": null,
   "metadata": {},
   "outputs": [],
   "source": [
    "#we want to create a repository of the 10 most popular playlists\n",
    "#do another loopty loop \n",
    "playlist_list = []\n",
    "for i in range(10):\n",
    "    id = search['playlists']['items'][i]['id']\n",
    "    playlist_list.append((id))"
   ]
  },
  {
   "cell_type": "code",
   "execution_count": null,
   "metadata": {},
   "outputs": [],
   "source": [
    "#{specific_genre:[{playlist_id:[items]}]}"
   ]
  },
  {
   "cell_type": "code",
   "execution_count": null,
   "metadata": {},
   "outputs": [],
   "source": [
    "#so now we take the song id and create a dataframe with those then search for features to model the recommendation of fof\n",
    "\n",
    "\"\"\"Create a big ol loopty loop\"\"\"\n",
    "\n",
    "#the playlist dictionary that stores the song_id\n",
    "playlist_dict = {}\n",
    "song_ids = []\n",
    "#looping through the 10 playlists that are included in the genre specified\n",
    "for i in range(10):\n",
    "    id = search['playlists']['items'][i]['id']\n",
    "    items = spotify.get_playlist_items(id)\n",
    "    #the gathering of song ids within the playlist\n",
    "    \n",
    "    #creating a list to hold the playlist items\n",
    "    for i in range(100):\n",
    "        try:\n",
    "            _id = items['items'][i]['track']['id']\n",
    "            song_ids.append(_id)\n",
    "        except TypeError:\n",
    "            continue\n",
    "        except IndexError:\n",
    "            continue\n",
    "    #updating the dictionary and appending it to the playlist_dict\n",
    "#     to_update = {id:song_ids}\n",
    "#     playlist_dict.update(to_update)\n",
    "\n",
    "        "
   ]
  },
  {
   "cell_type": "code",
   "execution_count": null,
   "metadata": {},
   "outputs": [],
   "source": [
    "#creating a dataframe from the songs in the list of 10 playlists\n",
    "d = []\n",
    "for track in song_ids:\n",
    "    try:\n",
    "        song = spotify.get_track(track)\n",
    "        d.append(\n",
    "            {\n",
    "                'track': song['name'],\n",
    "                'artist': song['album']['artists'][0]['name'],\n",
    "                'id':  track,\n",
    "                'preview': song['preview_url'],\n",
    "                'image_url': song['album']['images'][0]['url'],\n",
    "                'popularity': song['popularity']\n",
    "\n",
    "            }\n",
    "    )\n",
    "    except KeyError:\n",
    "        continue\n",
    "df = pd.DataFrame(d)"
   ]
  },
  {
   "cell_type": "code",
   "execution_count": null,
   "metadata": {},
   "outputs": [],
   "source": [
    "#iterating through the song features on tracks\n",
    "f = []\n",
    "for track in song_ids:\n",
    "    features = spotify.get_features(track)\n",
    "    f.append(features)\n",
    "df2 = pd.DataFrame(f)"
   ]
  },
  {
   "cell_type": "code",
   "execution_count": null,
   "metadata": {},
   "outputs": [],
   "source": [
    "#merging the features with the tracks on the shared id\n",
    "to_model = pd.merge(df,df2, on='id')"
   ]
  },
  {
   "cell_type": "code",
   "execution_count": null,
   "metadata": {},
   "outputs": [],
   "source": []
  },
  {
   "cell_type": "code",
   "execution_count": null,
   "metadata": {},
   "outputs": [],
   "source": []
  }
 ],
 "metadata": {
  "kernelspec": {
   "display_name": "Python 3",
   "language": "python",
   "name": "python3"
  },
  "language_info": {
   "codemirror_mode": {
    "name": "ipython",
    "version": 3
   },
   "file_extension": ".py",
   "mimetype": "text/x-python",
   "name": "python",
   "nbconvert_exporter": "python",
   "pygments_lexer": "ipython3",
   "version": "3.8.3"
  }
 },
 "nbformat": 4,
 "nbformat_minor": 4
}
